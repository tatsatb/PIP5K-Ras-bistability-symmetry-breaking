{
 "cells": [
  {
   "cell_type": "markdown",
   "id": "7e0b35a3cf466117",
   "metadata": {},
   "source": [
    "## Cell segmentaion\n",
    "\n",
    "Please note that this notebook is for just cell segmenation. If you already have generated segmented images (in Fiji/ImageJ, ilastik, or using custom Python/MATLAB program), please ignore this notebook and directly move forward to `makemontage.ipynb`.\n",
    "\n",
    "You may have to edit this code for correctly segmenting your cell type. "
   ]
  },
  {
   "cell_type": "markdown",
   "id": "64cae3cc",
   "metadata": {},
   "source": [
    "## Import everything and set up the environment\n",
    "\n",
    "We are using TkAgg backend for matplotlib to allow for interactive plotting. This is important for the ROI selection process. Also, this make sure that the code does not include the figures into the notebook, but rather opens them in a separate window."
   ]
  },
  {
   "cell_type": "code",
   "execution_count": null,
   "id": "3549ca9119b57c65",
   "metadata": {
    "ExecuteTime": {
     "end_time": "2025-05-24T23:49:29.057779Z",
     "start_time": "2025-05-24T23:49:29.033360Z"
    }
   },
   "outputs": [],
   "source": [
    "import os\n",
    "from shutil import copyfile, which\n",
    "import glob\n",
    "import numpy as np\n",
    "import pandas as pd\n",
    "import matplotlib.pyplot as plt\n",
    "import seaborn as sns\n",
    "import matplotlib\n",
    "import tifffile\n",
    "from matplotlib.pyplot import pause\n",
    "from matplotlib.path import Path\n",
    "\n",
    "\n",
    "matplotlib.use('TKAgg')\n",
    "plt.ion()\n",
    "plt.rc(\"axes\",grid=False)"
   ]
  },
  {
   "cell_type": "markdown",
   "id": "9e7e3f0b00bd869f",
   "metadata": {},
   "source": [
    "## Set up the file paths and load the data"
   ]
  },
  {
   "cell_type": "code",
   "execution_count": null,
   "id": "initial_id",
   "metadata": {
    "ExecuteTime": {
     "end_time": "2025-05-24T23:49:35.605194Z",
     "start_time": "2025-05-24T23:49:35.538212Z"
    }
   },
   "outputs": [],
   "source": [
    "\n",
    "Current_folder = os.getcwd()\n",
    "Parent_folder = os.path.dirname(Current_folder)\n",
    "folder_name = \"/media/tatsatb/Data/\"\n",
    "file_name = \"Experiment.tif\"\n",
    "full_path_to_load = os.path.join(folder_name, file_name)\n",
    "\n",
    "\n",
    "Path_to_Save = os.path.join(folder_name, 'MASKS', 'Experiment')\n",
    "os.makedirs(Path_to_Save, exist_ok=True)\n",
    "tiff_file = full_path_to_load\n",
    "info = tifffile.TiffFile(tiff_file)\n",
    "\n",
    "n_images = len(info.pages)\n",
    "cols = info.pages[0].shape[1]\n",
    "rows = info.pages[0].shape[0]\n",
    "\n",
    "n_frames = int(n_images / 2)\n",
    "\n"
   ]
  },
  {
   "cell_type": "markdown",
   "id": "a8a8a37bdd8b3321",
   "metadata": {},
   "source": [
    "## Load the separated channels into numpy arrays"
   ]
  },
  {
   "cell_type": "code",
   "execution_count": null,
   "id": "686f4512a347ccc1",
   "metadata": {
    "ExecuteTime": {
     "end_time": "2025-05-24T23:49:41.655744Z",
     "start_time": "2025-05-24T23:49:39.691687Z"
    }
   },
   "outputs": [],
   "source": [
    "\n",
    "\n",
    "I_tmp = np.zeros((rows, cols, n_images), dtype=np.uint16)\n",
    "\n",
    "\n",
    "full_path_red_channel_data = os.path.join(Path_to_Save, 'Red_channel.npy')\n",
    "full_path_DIC_channel_data = os.path.join(Path_to_Save, 'DIC_channel.npy')\n",
    "\n",
    "\n",
    "for i in range(0, n_images, 1):\n",
    "    tmp = tifffile.imread(tiff_file, key=i)\n",
    "    I_tmp[:, :, i] = tmp\n",
    "\n",
    "\n",
    "DIC_channel = I_tmp[:, :, 0::2]\n",
    "Red_channel = I_tmp[:, :, 1::2]\n",
    "\n",
    "\n",
    "np.save(full_path_red_channel_data, Red_channel)\n",
    "np.save(full_path_DIC_channel_data, DIC_channel)\n",
    "\n",
    "\n",
    "plt.figure(figsize=(4, 4))\n",
    "ax1 = plt.gca()\n",
    "plt.imshow(Red_channel[:, :, 0], cmap='viridis')\n",
    "ax1.grid(False)\n",
    "plt.colorbar()\n",
    "plt.title('Channel Red - First Frame')\n",
    "plt.tight_layout()\n",
    "plt.show()\n",
    "\n",
    "\n",
    "plt.figure(figsize=(4, 4))\n",
    "ax3 = plt.gca()\n",
    "plt.imshow(DIC_channel[:, :, 0], cmap='viridis')\n",
    "ax3.grid(False)\n",
    "plt.colorbar()\n",
    "plt.title('Channel DIC - First Frame')\n",
    "plt.show()"
   ]
  },
  {
   "cell_type": "markdown",
   "id": "8c66d7068b55408c",
   "metadata": {},
   "source": [
    "## Use RoiPoly to select regions of interest (ROIs) in the images\n",
    "\n",
    "This would be important for segmenting the cells (especially the cells that comes close) in the images. The user can draw polygons around the cells they want to segment and the code will create a mask based on these polygons."
   ]
  },
  {
   "cell_type": "code",
   "execution_count": null,
   "id": "6a30db954eb2c937",
   "metadata": {
    "ExecuteTime": {
     "end_time": "2025-05-25T00:15:02.373988Z",
     "start_time": "2025-05-24T23:49:46.496851Z"
    }
   },
   "outputs": [],
   "source": [
    "from roipoly import RoiPoly\n",
    "\n",
    "\n",
    "def enhance_contrast(frame, low_in=2, high_in=98):\n",
    "\n",
    "    # Convert to float for processing\n",
    "    frame_float = frame.astype(float)\n",
    "\n",
    "    # Calculate percentiles for contrast stretching\n",
    "    low_val = np.percentile(frame_float, low_in)\n",
    "    high_val = np.percentile(frame_float, high_in)\n",
    "\n",
    "    # Clip and stretch contrast\n",
    "    adjusted = np.clip(frame_float, low_val, high_val)\n",
    "    adjusted = ((adjusted - low_val) * 255 / (high_val - low_val))\n",
    "\n",
    "    # Ensure uint8 output\n",
    "    return np.clip(adjusted, 0, 255).astype(np.uint8)\n",
    "\n",
    "\n",
    "def process_single_channel(frame, frame_num):\n",
    "    # Enhance contrast for display\n",
    "    frame_display = enhance_contrast(frame)\n",
    "\n",
    "    attempt = 1\n",
    "    while True:\n",
    "        fig = plt.figure(figsize=(8, 8))\n",
    "        ax = fig.add_subplot(111)\n",
    "        ax.grid(False)\n",
    "        ax.imshow(frame_display, cmap='gray')\n",
    "        ax.set_title(f'Draw ROI - Frame {frame_num+1} - Attempt {attempt}')\n",
    "\n",
    "        try:\n",
    "            roi = RoiPoly(fig=fig, ax=ax, color='r')\n",
    "            plt.show(block=True)\n",
    "\n",
    "            # Verify ROI points exist\n",
    "            if hasattr(roi, 'x') and len(roi.x) > 2:\n",
    "                ny, nx = frame.shape\n",
    "                poly_verts = [(roi.x[i], roi.y[i]) for i in range(len(roi.x))]\n",
    "                x, y = np.meshgrid(np.arange(nx), np.arange(ny))\n",
    "                xy = np.vstack((x.flatten(), y.flatten())).T\n",
    "\n",
    "                # Create path for mask\n",
    "                path = Path(poly_verts)\n",
    "                mask = path.contains_points(xy).reshape(frame.shape)\n",
    "\n",
    "                processed = frame.copy()\n",
    "                processed[~mask] = 0\n",
    "                plt.close(fig)\n",
    "                return processed, mask\n",
    "            else:\n",
    "                print(\"Invalid ROI - please try again\")\n",
    "                plt.close(fig)\n",
    "                attempt += 1\n",
    "                continue\n",
    "\n",
    "        except KeyboardInterrupt:\n",
    "            print(\"Process interrupted by user. Exiting...\")\n",
    "            plt.close(fig)\n",
    "            return None, None\n",
    "\n",
    "        except Exception as e:\n",
    "            print(f\"ROI Error: {str(e)}\")\n",
    "            plt.close(fig)\n",
    "            attempt += 1\n",
    "            continue\n",
    "\n",
    "def process_all_frames(single_channel, masks=None):\n",
    "    processed = np.zeros_like(single_channel)\n",
    "    all_masks = np.zeros_like(single_channel, dtype=bool)\n",
    "\n",
    "    for i in range(0,n_frames):\n",
    "        processed[:,:,i], mask = process_single_channel(single_channel[:,:,i].copy(), i)\n",
    "        all_masks[:,:,i] = mask\n",
    "    return processed, all_masks\n",
    "\n",
    "\n",
    "\n",
    "processed_red_channel, red_masks = process_all_frames(Red_channel)\n"
   ]
  },
  {
   "cell_type": "markdown",
   "id": "bc3a9636a68a747f",
   "metadata": {},
   "source": [
    "## Display a sample frame for the processed images"
   ]
  },
  {
   "cell_type": "code",
   "execution_count": null,
   "id": "a408172400a53088",
   "metadata": {
    "ExecuteTime": {
     "end_time": "2025-05-22T22:20:00.169809Z",
     "start_time": "2025-05-22T22:19:59.938397Z"
    }
   },
   "outputs": [],
   "source": [
    "plt.figure(figsize=(4, 4))\n",
    "ax1 = plt.gca()\n",
    "plt.imshow(processed_red_channel[:, :, 0], cmap='viridis')\n",
    "ax1.grid(False)\n",
    "plt.colorbar()\n",
    "plt.title('Channel Red - First Frame')\n",
    "plt.tight_layout()\n",
    "plt.show()"
   ]
  },
  {
   "cell_type": "markdown",
   "id": "cce26ec224636957",
   "metadata": {},
   "source": [
    "## Threhold the image to segment the cells\n",
    "\n",
    "Change the threhold value to see how it affects the segmentation. This can be adjusted based on the image data."
   ]
  },
  {
   "cell_type": "code",
   "execution_count": null,
   "id": "6ef0623be057a4ec",
   "metadata": {
    "ExecuteTime": {
     "end_time": "2025-05-25T00:16:29.283765Z",
     "start_time": "2025-05-25T00:16:23.127606Z"
    }
   },
   "outputs": [],
   "source": [
    "from scipy.signal import convolve2d\n",
    "from matplotlib.widgets import Cursor\n",
    "plt.rc(\"axes\",grid=False)\n",
    "\n",
    "smoothed_image_red = np.zeros_like(processed_red_channel)\n",
    "\n",
    "kernel = np.ones((3, 3)) / 9.0\n",
    "\n",
    "for channel in range(smoothed_image_red.shape[2]):\n",
    "    smoothed_image_red[:, :, channel] = convolve2d(processed_red_channel[:, :, channel], kernel, mode='same', boundary='fill', fillvalue=0)\n",
    "\n",
    "threshold = 1200\n",
    "\n",
    "thresholded_combined = np.where(smoothed_image_red > threshold, 1, 0)\n",
    "\n",
    "plt.figure(figsize=(12, 4))\n",
    "\n",
    "\n",
    "\n",
    "ax1 = plt.subplot(221)\n",
    "im1 = plt.imshow(processed_red_channel[:, :, 0], cmap='viridis')\n",
    "plt.title('Processed Red Channel - First Frame')\n",
    "\n",
    "\n",
    "ax2 = plt.subplot(222)\n",
    "im2 = plt.imshow(smoothed_image_red[:, :, 0], cmap='viridis')\n",
    "plt.title('Smoothed Red Channel - First Frame')\n",
    "\n",
    "\n",
    "ax3 = plt.subplot(223)\n",
    "im3 = plt.imshow(thresholded_combined[:, :, 0], cmap='viridis')\n",
    "plt.title('Thresholded Red Channel - First Frame')\n",
    "\n",
    "\n",
    "ax4 = plt.subplot(224)\n",
    "im4 = plt.imshow(enhance_contrast(DIC_channel[:, :, 0]), cmap='gray')\n",
    "plt.title('DIC Channel - First Frame')\n",
    "\n",
    "\n",
    "plt.tight_layout()\n",
    "plt.show(block=True)\n",
    "plt.close()\n",
    "\n"
   ]
  },
  {
   "cell_type": "markdown",
   "id": "767ee2d3d825d499",
   "metadata": {},
   "source": [
    "## Properly segment the image using different morphological processing"
   ]
  },
  {
   "cell_type": "code",
   "execution_count": null,
   "id": "1a9ab2eb2b2cc539",
   "metadata": {
    "ExecuteTime": {
     "end_time": "2025-05-25T00:16:36.328329Z",
     "start_time": "2025-05-25T00:16:34.152164Z"
    }
   },
   "outputs": [],
   "source": [
    "from scipy import ndimage\n",
    "from skimage.morphology import binary_erosion, disk, binary_dilation\n",
    "from skimage.filters import median\n",
    "\n",
    "\n",
    "eroded = np.zeros_like(thresholded_combined)\n",
    "despecked = np.zeros_like(thresholded_combined)\n",
    "filled = np.zeros_like(thresholded_combined)\n",
    "dilated = np.zeros_like(thresholded_combined)\n",
    "mask_image_update = np.zeros_like(thresholded_combined)\n",
    "# mask_image_final = np.zeros_like(thresholded_combined)\n",
    "\n",
    "for frame in range(thresholded_combined.shape[2]):\n",
    "\n",
    "    # Fill holes in the image\n",
    "    filled[:, :, frame] = ndimage.binary_fill_holes(thresholded_combined[:, :, frame])\n",
    "\n",
    "    # Erode the image\n",
    "    eroded[:, :, frame] = binary_erosion(filled[:, :, frame], disk(2))\n",
    "\n",
    "    # Despeckle the image using median filter\n",
    "    despecked[:, :, frame] = median(eroded[:, :, frame], disk(1))\n",
    "\n",
    "    # Dilate the image\n",
    "    dilated[:, :, frame] = ndimage.binary_dilation(despecked[:, :, frame], disk(2))\n",
    "\n",
    "    # Update mask image\n",
    "    mask_image_update[:, :, frame] = dilated[:, :, frame]\n",
    "\n",
    "\n",
    "fig = plt.figure(figsize=(8, 8))\n",
    "ax = fig.add_subplot(111)\n",
    "ax.imshow(mask_image_update[:,:,0], cmap='viridis')"
   ]
  },
  {
   "cell_type": "markdown",
   "id": "9d83bd3adc8cfc06",
   "metadata": {},
   "source": [
    "## Save the binarized, segmented images as TIFF files"
   ]
  },
  {
   "cell_type": "code",
   "execution_count": null,
   "id": "742ea6e00a46135d",
   "metadata": {
    "ExecuteTime": {
     "end_time": "2025-05-25T00:16:42.283797Z",
     "start_time": "2025-05-25T00:16:42.117900Z"
    }
   },
   "outputs": [],
   "source": [
    "\n",
    "full_path_mask = os.path.join(Path_to_Save, 'Thesholded_mask.npy')\n",
    "np.save(full_path_mask, mask_image_update)\n",
    "\n",
    "mask_image_final_8bit = (mask_image_update * 255).astype(np.uint8)\n",
    "\n",
    "mask_save_path = os.path.join(Path_to_Save, 'mask_8bit.tif')\n",
    "tifffile.imwrite(mask_save_path, mask_image_final_8bit.transpose(2,0,1))\n"
   ]
  },
  {
   "cell_type": "markdown",
   "id": "a65fe51e138c3331",
   "metadata": {},
   "source": [
    "## Load the binary image for testing"
   ]
  },
  {
   "cell_type": "code",
   "execution_count": null,
   "id": "b89a850ff05d60ff",
   "metadata": {
    "ExecuteTime": {
     "end_time": "2025-05-22T22:20:43.908469Z",
     "start_time": "2025-05-22T22:20:43.834480Z"
    }
   },
   "outputs": [],
   "source": [
    "full_path_mask = os.path.join(Path_to_Save, 'Thresholded_mask.npy')\n",
    "mask_save_path = os.path.join(Path_to_Save, 'mask_8bit.tif')\n",
    "\n",
    "mask_image_load = tifffile.imread(mask_save_path)\n",
    "\n",
    "mask_image_reshape = mask_image_load.transpose(1, 2, 0)\n",
    "mask_image_final = mask_image_reshape.astype(np.int64)/255"
   ]
  },
  {
   "cell_type": "markdown",
   "id": "5d061698",
   "metadata": {},
   "source": [
    "## At this point, please move to `makemontage.ipynb` notebook. "
   ]
  }
 ],
 "metadata": {
  "kernelspec": {
   "display_name": "Python 3",
   "language": "python",
   "name": "python3"
  },
  "language_info": {
   "codemirror_mode": {
    "name": "ipython",
    "version": 2
   },
   "file_extension": ".py",
   "mimetype": "text/x-python",
   "name": "python",
   "nbconvert_exporter": "python",
   "pygments_lexer": "ipython2",
   "version": "2.7.6"
  }
 },
 "nbformat": 4,
 "nbformat_minor": 5
}
